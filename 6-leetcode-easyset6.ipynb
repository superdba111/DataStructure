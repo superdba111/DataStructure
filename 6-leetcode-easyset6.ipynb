{
 "cells": [
  {
   "cell_type": "code",
   "execution_count": 1,
   "metadata": {
    "ExecuteTime": {
     "end_time": "2019-03-03T18:42:47.324231Z",
     "start_time": "2019-03-03T18:42:47.317223Z"
    }
   },
   "outputs": [],
   "source": [
    "\"\"\"\n",
    "Remove all elements from a linked list of integers that have value val.\n",
    "\n",
    "Example:\n",
    "\n",
    "Input:  1->2->6->3->4->5->6, val = 6\n",
    "Output: 1->2->3->4->5\n",
    "\"\"\"\n",
    "# Definition for singly-linked list.\n",
    "# class ListNode(object):\n",
    "#     def __init__(self, x):\n",
    "#         self.val = x\n",
    "#         self.next = None\n",
    "\n",
    "class Solution(object):\n",
    "    def removeElements(self, head, val):\n",
    "        \"\"\"\n",
    "        :type head: ListNode\n",
    "        :type val: int\n",
    "        :rtype: ListNode\n",
    "        \"\"\"\n",
    "        dummy = ListNode(-1)\n",
    "        dummy.next = head\n",
    "        node = dummy\n",
    "        while node.next:\n",
    "            if node.next.val == val:\n",
    "                node.next = node.next.next\n",
    "            else:\n",
    "                node = node.next\n",
    "        return dummy.next"
   ]
  },
  {
   "cell_type": "code",
   "execution_count": 2,
   "metadata": {
    "ExecuteTime": {
     "end_time": "2019-03-03T19:46:26.152820Z",
     "start_time": "2019-03-03T19:46:26.147819Z"
    }
   },
   "outputs": [],
   "source": [
    "\"\"\"\n",
    "Given a singly linked list, determine if it is a palindrome.\n",
    "\n",
    "Example 1:\n",
    "\n",
    "Input: 1->2\n",
    "Output: false\n",
    "Example 2:\n",
    "\n",
    "Input: 1->2->2->1\n",
    "Output: true\n",
    "Follow up:\n",
    "Could you do it in O(n) time and O(1) space?\n",
    "思路：转换为数组。然后反转数组与原数组比较。相同则为回文链表\n",
    "\"\"\"\n",
    "\n",
    "class Solution(object):\n",
    "    def isPalindrome(self, head):\n",
    "        \"\"\"\n",
    "        :type head: ListNode\n",
    "        :rtype: bool\n",
    "        \"\"\"\n",
    "        if head is None or head.next is None:\n",
    "            return True\n",
    "        l = []\n",
    "        p = head\n",
    "        while p.next:\n",
    "            l.append(p.val)\n",
    "            p = p.next\n",
    "        l.append(p.val)\n",
    "        return l == l[::-1]\n",
    "\n",
    "\n"
   ]
  },
  {
   "cell_type": "code",
   "execution_count": 3,
   "metadata": {
    "ExecuteTime": {
     "end_time": "2019-03-03T19:53:08.297310Z",
     "start_time": "2019-03-03T19:53:08.292333Z"
    }
   },
   "outputs": [],
   "source": [
    "\"\"\"\n",
    "Determine whether an integer is a palindrome. An integer is a palindrome when it reads the same backward as forward.\n",
    "\n",
    "Example 1:\n",
    "\n",
    "Input: 121\n",
    "Output: true\n",
    "Example 2:\n",
    "\n",
    "Input: -121\n",
    "Output: false\n",
    "Explanation: From left to right, it reads -121. From right to left, it becomes 121-. Therefore it is not a palindrome.\n",
    "Example 3:\n",
    "\n",
    "Input: 10\n",
    "Output: false\n",
    "Explanation: Reads 01 from right to left. Therefore it is not a palindrome.\n",
    "\"\"\"\n",
    "class Solution(object):\n",
    "    def isPalindrome(self, x):\n",
    "        \"\"\"\n",
    "        :type x: int\n",
    "        :rtype: bool\n",
    "        \"\"\"\n",
    "        s = str(x)\n",
    "        if s[::-1] == s:\n",
    "            return True\n",
    "        else:\n",
    "            return False\n",
    "        \n",
    "if __name__ == \"__main__\":\n",
    "    assert Solution().isPalindrome(123) == False\n",
    "    assert Solution().isPalindrome(12321) == True\n",
    "    assert Solution().isPalindrome(-121) == False"
   ]
  },
  {
   "cell_type": "code",
   "execution_count": 4,
   "metadata": {
    "ExecuteTime": {
     "end_time": "2019-03-04T03:13:50.732964Z",
     "start_time": "2019-03-04T03:13:50.722970Z"
    }
   },
   "outputs": [],
   "source": [
    "\"\"\"Given a sorted array and a target value, return the index if the target is found. If not, return the index where it would be if it were inserted in order.\n",
    "\n",
    "You may assume no duplicates in the array.\n",
    "\n",
    "Example 1:\n",
    "\n",
    "Input: [1,3,5,6], 5\n",
    "Output: 2\n",
    "Example 2:\n",
    "\n",
    "Input: [1,3,5,6], 2\n",
    "Output: 1\n",
    "\n",
    "\"\"\"\n",
    "\n",
    "class Solution(object):\n",
    "    def searchInsert(self, nums, target):\n",
    "        \"\"\"\n",
    "        :type nums: List[int]\n",
    "        :type target: int\n",
    "        :rtype: int\n",
    "        \"\"\"\n",
    "        length = len(nums)\n",
    "        start = 0\n",
    "        end = length\n",
    "        while start < end:\n",
    "            mid = (start + end) // 2\n",
    "            if nums[mid] == target or (nums[mid] > target and (mid == 0 or nums[mid - 1] < target)):\n",
    "                return mid\n",
    "            if mid == length - 1 and nums[mid] < target:\n",
    "                return mid + 1\n",
    "            if nums[mid] < target:\n",
    "                start = mid + 1\n",
    "            else:\n",
    "                end = mid\n",
    "\n",
    "\n",
    "if __name__ == \"__main__\":\n",
    "    assert Solution().searchInsert([1, 3, 5, 6], 5) == 2\n",
    "    assert Solution().searchInsert([1, 3, 5, 6], 2) == 1\n",
    "    assert Solution().searchInsert([1, 3, 5, 6], 7) == 4\n",
    "    assert Solution().searchInsert([1, 3, 5, 6], 0) == 0"
   ]
  },
  {
   "cell_type": "code",
   "execution_count": 5,
   "metadata": {
    "ExecuteTime": {
     "end_time": "2019-03-04T03:23:53.845826Z",
     "start_time": "2019-03-04T03:23:53.836791Z"
    }
   },
   "outputs": [],
   "source": [
    "\"\"\"\n",
    "Write an algorithm to determine if a number is \"happy\".\n",
    "\n",
    "A happy number is a number defined by the following process: Starting with any positive integer, \n",
    "replace the number by the sum of the squares of its digits, and repeat the process \n",
    "until the number equals 1 (where it will stay), or it loops endlessly in a cycle which does not include 1. \n",
    "Those numbers for which this process ends in 1 are happy numbers.\n",
    "\n",
    "Example: \n",
    "\n",
    "Input: 19\n",
    "Output: true\n",
    "Explanation: \n",
    "1^2 + 9^2 = 82\n",
    "8^2 + 2^2 = 68\n",
    "6^2 + 8^2 = 100\n",
    "1^2 + 0^2 + 0^2 = 1\n",
    "\"\"\"\n",
    "\n",
    "class Solution(object):\n",
    "    def isHappy(self, n):\n",
    "        \"\"\"\n",
    "        :type n: int\n",
    "        :rtype: bool\n",
    "        \"\"\"\n",
    "        visited = []\n",
    "        while n != 1:\n",
    "            if n in visited:\n",
    "                return False\n",
    "            visited.append(n)\n",
    "            n = sum([int(i) ** 2 for i in str(n)])\n",
    "        return True\n",
    "\n",
    "\n",
    "if __name__ == \"__main__\":\n",
    "    assert Solution().isHappy(19) == True"
   ]
  },
  {
   "cell_type": "code",
   "execution_count": 6,
   "metadata": {
    "ExecuteTime": {
     "end_time": "2019-03-04T03:32:08.564467Z",
     "start_time": "2019-03-04T03:32:08.555512Z"
    }
   },
   "outputs": [],
   "source": [
    "\"\"\"\n",
    "Count the number of prime numbers less than a non-negative number, n.\n",
    "\n",
    "Example:\n",
    "\n",
    "Input: 10\n",
    "Output: 4\n",
    "Explanation: There are 4 prime numbers less than 10, they are 2, 3, 5, 7.\n",
    "\"\"\"\n",
    "\n",
    "class Solution(object):\n",
    "    def countPrimes(self, n):\n",
    "        \"\"\"\n",
    "        :type n: int\n",
    "        :rtype: int\n",
    "        \"\"\"\n",
    "        isPrime = [True] * n\n",
    "        isPrime[:2] = [False, False]\n",
    "        for i in range(2, int(n ** 0.5) + 1):\n",
    "            if isPrime[i]:\n",
    "                isPrime[i * i: n: i] = [False] * len(isPrime[i * i: n: i])\n",
    "        return sum(isPrime)\n",
    "\n",
    "\n",
    "if __name__ == \"__main__\":\n",
    "    assert Solution().countPrimes(100) == 25\n",
    "    assert Solution().countPrimes(10000) == 1229"
   ]
  },
  {
   "cell_type": "code",
   "execution_count": 8,
   "metadata": {
    "ExecuteTime": {
     "end_time": "2019-03-04T03:33:03.192500Z",
     "start_time": "2019-03-04T03:33:03.187459Z"
    }
   },
   "outputs": [
    {
     "name": "stdout",
     "output_type": "stream",
     "text": [
      "[True, True, True, True, True, True, True, True, True, True]\n"
     ]
    }
   ],
   "source": [
    "l=[True]*10\n",
    "print()"
   ]
  },
  {
   "cell_type": "code",
   "execution_count": null,
   "metadata": {},
   "outputs": [],
   "source": []
  }
 ],
 "metadata": {
  "kernelspec": {
   "display_name": "Python 3",
   "language": "python",
   "name": "python3"
  },
  "language_info": {
   "codemirror_mode": {
    "name": "ipython",
    "version": 3
   },
   "file_extension": ".py",
   "mimetype": "text/x-python",
   "name": "python",
   "nbconvert_exporter": "python",
   "pygments_lexer": "ipython3",
   "version": "3.6.6"
  },
  "toc": {
   "base_numbering": 1,
   "nav_menu": {},
   "number_sections": true,
   "sideBar": true,
   "skip_h1_title": false,
   "title_cell": "Table of Contents",
   "title_sidebar": "Contents",
   "toc_cell": false,
   "toc_position": {},
   "toc_section_display": true,
   "toc_window_display": false
  },
  "varInspector": {
   "cols": {
    "lenName": 16,
    "lenType": 16,
    "lenVar": 40
   },
   "kernels_config": {
    "python": {
     "delete_cmd_postfix": "",
     "delete_cmd_prefix": "del ",
     "library": "var_list.py",
     "varRefreshCmd": "print(var_dic_list())"
    },
    "r": {
     "delete_cmd_postfix": ") ",
     "delete_cmd_prefix": "rm(",
     "library": "var_list.r",
     "varRefreshCmd": "cat(var_dic_list()) "
    }
   },
   "types_to_exclude": [
    "module",
    "function",
    "builtin_function_or_method",
    "instance",
    "_Feature"
   ],
   "window_display": false
  }
 },
 "nbformat": 4,
 "nbformat_minor": 2
}
