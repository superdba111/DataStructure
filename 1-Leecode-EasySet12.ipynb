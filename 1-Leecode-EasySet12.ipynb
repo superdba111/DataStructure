{
 "cells": [
  {
   "cell_type": "markdown",
   "metadata": {},
   "source": [
    "#最后一个单词的长度 in text\n",
    "\n",
    "思路：从后往前遍历。首先找到字符串中第一不为’ ‘的值的坐标，该坐标即为最后一个Word的尾字母。然后继续遍历，如果碰到’ ‘，则遍历结束，否则，count++。最后返回count"
   ]
  },
  {
   "cell_type": "code",
   "execution_count": 10,
   "metadata": {
    "ExecuteTime": {
     "end_time": "2019-03-02T23:42:32.744028Z",
     "start_time": "2019-03-02T23:42:32.736022Z"
    }
   },
   "outputs": [
    {
     "name": "stdout",
     "output_type": "stream",
     "text": [
      "5\n"
     ]
    }
   ],
   "source": [
    "\"\"\"Given a string s consists of upper/lower-case alphabets and empty space characters ' ', \n",
    "return the length of last word in the string.\n",
    "\n",
    "If the last word does not exist, return 0.\n",
    "\n",
    "Note: A word is defined as a character sequence consists of non-space characters only.\"\"\"\n",
    "\n",
    "class Solution(object):\n",
    "    def lengthOfLastWord(self, s):\n",
    "        \"\"\"\n",
    "        :type s: str\n",
    "        :rtype: int\n",
    "        \"\"\"\n",
    "        count = 0\n",
    "        n = len(s) - 1\n",
    "        while n>=0 and s[n]==' ':\n",
    "            n -= 1\n",
    "        while n>=0 and s[n]!=' ':\n",
    "            count +=1\n",
    "            n -= 1\n",
    "        return count\n",
    "    \n",
    "\n",
    "if __name__ == \"__main__\":\n",
    "    \n",
    "    string1 = \"Hello World\"\n",
    "    \n",
    "    test = Solution()\n",
    "\n",
    "    print(test.lengthOfLastWord(string1))"
   ]
  },
  {
   "cell_type": "markdown",
   "metadata": {},
   "source": [
    "7. Reverse Integer\n",
    "Easy\n",
    "\n",
    "1944\n",
    "\n",
    "2864\n",
    "\n",
    "Favorite\n",
    "\n",
    "Share\n",
    "Given a 32-bit signed integer, reverse digits of an integer.\n",
    "\n",
    "Example 1:\n",
    "\n",
    "Input: 123\n",
    "Output: 321\n",
    "Example 2:\n",
    "\n",
    "Input: -123\n",
    "Output: -321\n",
    "Example 3:\n",
    "\n",
    "Input: 120\n",
    "Output: 21\n",
    "Note:\n",
    "Assume we are dealing with an environment which could only store integers within the 32-bit signed integer range: [−231,  231 − 1]. For the purpose of this problem, assume that your function returns 0 when the reversed integer overflows."
   ]
  },
  {
   "cell_type": "code",
   "execution_count": 11,
   "metadata": {
    "ExecuteTime": {
     "end_time": "2019-03-02T23:43:02.599654Z",
     "start_time": "2019-03-02T23:43:02.590657Z"
    }
   },
   "outputs": [
    {
     "name": "stdout",
     "output_type": "stream",
     "text": [
      "21\n",
      "-321\n"
     ]
    }
   ],
   "source": [
    "#反转整数\n",
    "#思路：先考虑正负，转换成数组进行切片，最后在判断转换后的数字是否超出范围\n",
    "class Solution(object):\n",
    "    def reverse(self, x):\n",
    "        \"\"\"\n",
    "        :type x: int\n",
    "        :rtype: int\n",
    "        \"\"\"\n",
    "        if x < 0:\n",
    "            y = -1*int(str(-x)[::-1])\n",
    "        else:\n",
    "            y = int(str(x)[::-1])\n",
    "        if y > 2147483648 or y < -2147483648 :\n",
    "            y = 0\n",
    "        return y\n",
    "    \n",
    "\n",
    "if __name__ == \"__main__\":\n",
    "    \n",
    "    test = Solution()\n",
    "    \n",
    "    n1 = 120\n",
    "    n2 = -123\n",
    "\n",
    "    print(test.reverse(n1))\n",
    "    print(test.reverse(n2))\n",
    "    "
   ]
  },
  {
   "cell_type": "code",
   "execution_count": 13,
   "metadata": {
    "ExecuteTime": {
     "end_time": "2019-03-02T23:46:42.424016Z",
     "start_time": "2019-03-02T23:46:42.417018Z"
    }
   },
   "outputs": [
    {
     "name": "stdout",
     "output_type": "stream",
     "text": [
      "True\n",
      "False\n"
     ]
    }
   ],
   "source": [
    "#回文数\n",
    "#思路：这题比较简单，回文数只能是大于等于0判断下，然后转换为数组倒着切片与原数相等就是回文数了。\n",
    "\"\"\"Determine whether an integer is a palindrome. An integer is a palindrome when it reads the same backward as forward.\"\"\"\n",
    "class Solution(object):\n",
    "    def isPalindrome(self, x):\n",
    "        \"\"\"\n",
    "        :type x: int\n",
    "        :rtype: bool\n",
    "        \"\"\"\n",
    "        if(x>=0):\n",
    "            if(x==int((str(x))[::-1])):\n",
    "                return True\n",
    "            else:\n",
    "                return False\n",
    "        return False\n",
    "\n",
    "if __name__ == \"__main__\":\n",
    "    \n",
    "    test = Solution()\n",
    "    \n",
    "    n1 = 121\n",
    "    n2 = -121\n",
    "\n",
    "    print(test.isPalindrome(n1))\n",
    "    print(test.isPalindrome(n2)) \n"
   ]
  },
  {
   "cell_type": "markdown",
   "metadata": {},
   "source": [
    "Roman numerals are represented by seven different symbols: I, V, X, L, C, D and M.\n",
    "\n",
    "Symbol       Value\n",
    "I             1\n",
    "V             5\n",
    "X             10\n",
    "L             50\n",
    "C             100\n",
    "D             500\n",
    "M             1000\n",
    "For example, two is written as II in Roman numeral, just two one's added together. Twelve is written as, XII, which is simply X + II. The number twenty seven is written as XXVII, which is XX + V + II.\n",
    "\n",
    "Roman numerals are usually written largest to smallest from left to right. However, the numeral for four is not IIII. Instead, the number four is written as IV. Because the one is before the five we subtract it making four. The same principle applies to the number nine, which is written as IX. There are six instances where subtraction is used:\n",
    "\n",
    "I can be placed before V (5) and X (10) to make 4 and 9. \n",
    "X can be placed before L (50) and C (100) to make 40 and 90. \n",
    "C can be placed before D (500) and M (1000) to make 400 and 900.\n",
    "Given a roman numeral, convert it to an integer. Input is guaranteed to be within the range from 1 to 3999."
   ]
  },
  {
   "cell_type": "code",
   "execution_count": 12,
   "metadata": {
    "ExecuteTime": {
     "end_time": "2019-03-02T23:45:36.374403Z",
     "start_time": "2019-03-02T23:45:36.368398Z"
    }
   },
   "outputs": [
    {
     "name": "stdout",
     "output_type": "stream",
     "text": [
      "4\n",
      "9\n",
      "58\n"
     ]
    }
   ],
   "source": [
    "#罗马数字转整数\n",
    "#思路：从右向左依次处理：当遇到这个字母表示的数字比后一个小的时候，减去这个数；否则，累加。\n",
    "\n",
    "class Solution(object):\n",
    "    def romanToInt(self, s):\n",
    "        \"\"\"\n",
    "        :type s: str\n",
    "        :rtype: int\n",
    "        \"\"\"\n",
    "        d = {'I':1, 'V': 5, 'X': 10, 'L': 50, 'C': 100, 'D': 500, 'M': 1000}\n",
    "        sum = 0\n",
    "        for i in range(len(s)-1, -1, -1):\n",
    "            if(i < len(s)-1) and (d[s[i]] < d[s[i+1]]):\n",
    "                sum -= d[s[i]]\n",
    "            else:\n",
    "                sum += d[s[i]]\n",
    "        return sum\n",
    "\n",
    "if __name__ == \"__main__\":\n",
    "    \n",
    "    test = Solution()\n",
    "    \n",
    "    n1 = \"IV\"\n",
    "    n2 = \"IX\"\n",
    "    n3 = \"LVIII\"\n",
    "\n",
    "    print(test.romanToInt(n1))\n",
    "    print(test.romanToInt(n2))\n",
    "    print(test.romanToInt(n3))"
   ]
  },
  {
   "cell_type": "markdown",
   "metadata": {},
   "source": [
    "Write a function to find the longest common prefix string amongst an array of strings.\n",
    "\n",
    "If there is no common prefix, return an empty string \"\".\n",
    "\n",
    "Example 1:\n",
    "\n",
    "Input: [\"flower\",\"flow\",\"flight\"]\n",
    "Output: \"fl\"\n",
    "Example 2:\n",
    "\n",
    "Input: [\"dog\",\"racecar\",\"car\"]\n",
    "Output: \"\"\n",
    "Explanation: There is no common prefix among the input strings.\n",
    "#最长公共前缀\n",
    "思路：最长公共前缀指的是字符串数组中所有公共最长的前缀。\n",
    "\n",
    "如果是空串的话，那么说明前缀就是“”\n",
    "\n",
    "然后最长的前缀不会超过最短的字符串，那么可以遍历最短的字符串的长度，依次比较。\n",
    "\n",
    "第一步：找出长度最短的字符串；\n",
    "\n",
    "第二步：依次与长度最短的字符串比较。"
   ]
  },
  {
   "cell_type": "code",
   "execution_count": 6,
   "metadata": {
    "ExecuteTime": {
     "end_time": "2019-03-02T14:49:53.140825Z",
     "start_time": "2019-03-02T14:49:53.133828Z"
    }
   },
   "outputs": [
    {
     "name": "stdout",
     "output_type": "stream",
     "text": [
      "fl\n"
     ]
    }
   ],
   "source": [
    "class Solution(object):\n",
    "    def longestCommonPrefix(self, strs):\n",
    "        \"\"\"\n",
    "        :type strs: List[str]\n",
    "        :rtype: str\n",
    "        \"\"\"\n",
    "        if len(strs) == 0:\n",
    "            return \"\"\n",
    "        minlen = min([len(x) for x in strs])\n",
    "        end = 0\n",
    "        while end < minlen:\n",
    "            for i in range(1,len(strs)):\n",
    "                if strs[i][end] != strs[i-1][end]:\n",
    "                    return strs[0][:end]\n",
    "            end += 1\n",
    "        return strs[0][:end]\n",
    "\n",
    "\n",
    "if __name__ == \"__main__\":\n",
    "    \n",
    "    test = Solution()\n",
    "    \n",
    "    l = [\"flower\", \"flow\", \"flight\"]\n",
    "    \n",
    "    print(test.longestCommonPrefix(l))"
   ]
  },
  {
   "cell_type": "markdown",
   "metadata": {},
   "source": [
    "#有效的括号\n",
    "#思路：数据结构中栈的基本题，使用.pop()和.append(x)方法来实现入栈和出栈的操作。看最后列表是否为[None]，如果是，说明堆栈中的元素全部弹出，是符合要求的括号串，返回True；否则说明不符合要求，返回False。\n",
    "Given a string containing just the characters '(', ')', '{', '}', '[' and ']', determine if the input string is valid.\n",
    "\n",
    "An input string is valid if:\n",
    "\n",
    "Open brackets must be closed by the same type of brackets.\n",
    "Open brackets must be closed in the correct order.\n",
    "Note that an empty string is also considered valid."
   ]
  },
  {
   "cell_type": "code",
   "execution_count": 7,
   "metadata": {
    "ExecuteTime": {
     "end_time": "2019-03-02T14:59:16.576540Z",
     "start_time": "2019-03-02T14:59:16.570539Z"
    }
   },
   "outputs": [
    {
     "name": "stdout",
     "output_type": "stream",
     "text": [
      "True\n",
      "False\n"
     ]
    }
   ],
   "source": [
    "class Solution(object):\n",
    "    def isValid(self, s):\n",
    "        \"\"\"\n",
    "        :type s: str\n",
    "        :rtype: bool\n",
    "        \"\"\"\n",
    "        sta=[None]  \n",
    "        dic={\")\":\"(\",\"}\":\"{\",\"]\":\"[\"}  \n",
    "        for t in s:  \n",
    "            if(t in dic and dic[t]==sta[len(sta)-1]):  \n",
    "                sta.pop()  \n",
    "            else:  \n",
    "                sta.append(t)  \n",
    "        return len(sta) == 1  \n",
    "    \n",
    "\n",
    "if __name__ == \"__main__\":\n",
    "    \n",
    "    test = Solution()\n",
    "    \n",
    "    s1=\"{[]}\"\n",
    "    s2=\"{[()]}}\"\n",
    "    \n",
    "    print(test.isValid(s1))\n",
    "    print(test.isValid(s2))\n",
    "    \n",
    "    "
   ]
  },
  {
   "cell_type": "code",
   "execution_count": 1,
   "metadata": {
    "ExecuteTime": {
     "end_time": "2019-03-03T02:04:21.590480Z",
     "start_time": "2019-03-03T02:04:21.584482Z"
    }
   },
   "outputs": [],
   "source": [
    "#merge the linked lists\n",
    "#思路:还是数据结构里面，链表的基本知识。26.删除排序数组中的重复项\n",
    "\"\"\"Merge two sorted linked lists and return it as a new list. The new list should be made by splicing together \n",
    "the nodes of the first two lists.\n",
    "\n",
    "Example:\n",
    "\n",
    "Input: 1->2->4, 1->3->4\n",
    "Output: 1->1->2->3->4->4\"\"\"\n",
    "\n",
    "# Definition for singly-linked list.\n",
    "class ListNode(object):\n",
    "    def __init__(self, x):\n",
    "        self.val = x\n",
    "        self.next = None\n",
    "\n",
    "class Solution(object):\n",
    "    def mergeTwoLists(self, l1, l2):\n",
    "        \"\"\"\n",
    "        :type l1: ListNode\n",
    "        :type l2: ListNode\n",
    "        :rtype: ListNode\n",
    "        \"\"\"\n",
    "        if l1==None and l2==None:\n",
    "            return None\n",
    "        if l1==None:\n",
    "            return l2\n",
    "        if l2==None:\n",
    "            return l1\n",
    "        if l1.val<=l2.val:\n",
    "            l1.next=self.mergeTwoLists(l1.next,l2)\n",
    "            return l1\n",
    "        else:\n",
    "            l2.next=self.mergeTwoLists(l1,l2.next)\n",
    "            return l2\n",
    "        \n",
    "\n",
    "if __name__ == \"__main__\":\n",
    "    assert Solution().mergeTwoLists(ListNode(1), ListNode(2)).val == 1"
   ]
  },
  {
   "cell_type": "code",
   "execution_count": 15,
   "metadata": {
    "ExecuteTime": {
     "end_time": "2019-03-02T23:55:07.307840Z",
     "start_time": "2019-03-02T23:55:07.301840Z"
    }
   },
   "outputs": [
    {
     "name": "stdout",
     "output_type": "stream",
     "text": [
      "5\n"
     ]
    }
   ],
   "source": [
    "\"\"\"Given a sorted array nums, remove the duplicates in-place such that each element appear only once \n",
    "and return the new length.\n",
    "\n",
    "Do not allocate extra space for another array, you must do this by modifying the input array in-place with O(1) extra memory.\n",
    "\n",
    "Example 1:\n",
    "\n",
    "Given nums = [1,1,2],\n",
    "\n",
    "Your function should return length = 2, with the first two elements of nums being 1 and 2 respectively.\n",
    "\n",
    "It doesn't matter what you leave beyond the returned length.\"\"\"\n",
    "\n",
    "#思路：指针的概念，用两个指针遍历数组。如果值一样，则长度减一，如果不一样指针向后移动一位继续遍历。\n",
    "class Solution(object):\n",
    "    def removeDuplicates(self, nums):\n",
    "        \"\"\"\n",
    "        :type nums: List[int]\n",
    "        :rtype: int\n",
    "        \"\"\"\n",
    "        if not nums: return 0  \n",
    "        length,index,t = len(nums),1,nums[0]  \n",
    "        for i in nums[1:]:  \n",
    "            if i != t:  \n",
    "                nums[index] = i  \n",
    "                index += 1  \n",
    "                t = i  \n",
    "            else:  \n",
    "                length -= 1  \n",
    "        return length  \n",
    "\n",
    "\n",
    "if __name__ == \"__main__\":\n",
    "    \n",
    "    test = Solution()\n",
    "    \n",
    "    nums = [0,0,1,1,1,2,2,3,3,4]\n",
    "    \n",
    "    print(test.removeDuplicates(nums))"
   ]
  },
  {
   "cell_type": "markdown",
   "metadata": {},
   "source": [
    "Given an array nums and a value val, remove all instances of that value in-place and return the new length.\n",
    "\n",
    "Do not allocate extra space for another array, you must do this by modifying the input array in-place with O(1) extra memory.\n",
    "\n",
    "The order of elements can be changed. It doesn't matter what you leave beyond the new length.\n",
    "\n",
    "Example 1:\n",
    "\n",
    "Given nums = [3,2,2,3], val = 3,\n",
    "\n",
    "Your function should return length = 2, with the first two elements of nums being 2.\n",
    "\n",
    "It doesn't matter what you leave beyond the returned length."
   ]
  },
  {
   "cell_type": "code",
   "execution_count": 16,
   "metadata": {
    "ExecuteTime": {
     "end_time": "2019-03-03T00:13:12.763824Z",
     "start_time": "2019-03-03T00:13:12.758864Z"
    }
   },
   "outputs": [
    {
     "name": "stdout",
     "output_type": "stream",
     "text": [
      "5\n"
     ]
    }
   ],
   "source": [
    "#思路：定义俩个指针，从前向后遍历，遇到和val相同的则用后面和val不相同的覆盖掉。最后把后面多余元素删掉。\n",
    "class Solution(object):\n",
    "    def removeElement(self, nums, val):\n",
    "        \"\"\"\n",
    "        :type nums: List[int]\n",
    "        :type val: int\n",
    "        :rtype: int\n",
    "        \"\"\"\n",
    "        i = 0\n",
    "        j = 0\n",
    "        while j < len(nums):\n",
    "            if nums[j] == val:  \n",
    "                j += 1\n",
    "            else:\n",
    "                if i != j:  \n",
    "                    nums[i] = nums[j]\n",
    "                i += 1\n",
    "                j += 1\n",
    "        del nums[i:len(nums)] \n",
    "        return len(nums)\n",
    "\n",
    "if __name__ == \"__main__\":\n",
    "    \n",
    "    test = Solution()\n",
    "    \n",
    "    nums = [0,1,2,2,3,0,4,2]\n",
    "    val = 2\n",
    "    \n",
    "    print(test.removeElement(nums, val))\n",
    "    "
   ]
  },
  {
   "cell_type": "code",
   "execution_count": 17,
   "metadata": {
    "ExecuteTime": {
     "end_time": "2019-03-03T00:19:24.035999Z",
     "start_time": "2019-03-03T00:19:24.031049Z"
    }
   },
   "outputs": [
    {
     "name": "stdout",
     "output_type": "stream",
     "text": [
      "2\n"
     ]
    }
   ],
   "source": [
    "\"\"\"Implement strStr().\n",
    "\n",
    "Return the index of the first occurrence of needle in haystack, or -1 if needle is not part of haystack.\n",
    "\n",
    "Example 1:\n",
    "\n",
    "Input: haystack = \"hello\", needle = \"ll\"\n",
    "Output: 2\n",
    "Example 2:\n",
    "\n",
    "Input: haystack = \"aaaaa\", needle = \"bba\"\n",
    "Output: -1\"\"\"\n",
    "\n",
    "class Solution(object):\n",
    "    def strStr(self, haystack, needle):\n",
    "        \"\"\"\n",
    "        :type haystack: str\n",
    "        :type needle: str\n",
    "        :rtype: int\n",
    "        \"\"\"\n",
    "        return haystack.find(needle)\n",
    "    \n",
    "\n",
    "if __name__ == \"__main__\":\n",
    "    \n",
    "    test = Solution()\n",
    "    haystack = \"hello\"\n",
    "    needle = \"ll\"\n",
    "    \n",
    "    print(test.strStr(haystack, needle))\n",
    "    "
   ]
  },
  {
   "cell_type": "code",
   "execution_count": 18,
   "metadata": {
    "ExecuteTime": {
     "end_time": "2019-03-03T00:26:06.788752Z",
     "start_time": "2019-03-03T00:26:06.779743Z"
    }
   },
   "outputs": [
    {
     "name": "stdout",
     "output_type": "stream",
     "text": [
      "2\n"
     ]
    }
   ],
   "source": [
    "\"\"\"Given a sorted array and a target value, return the index if the target is found. \n",
    "If not, return the index where it would be if it were inserted in order.\n",
    "\n",
    "You may assume no duplicates in the array.\n",
    "\n",
    "Example 1:\n",
    "\n",
    "Input: [1,3,5,6], 5\n",
    "Output: 2\n",
    "Example 2:\n",
    "\n",
    "Input: [1,3,5,6], 2\n",
    "Output: 1\"\"\"\n",
    "\n",
    "class Solution(object):\n",
    "    def searchInsert(self, nums, target):\n",
    "        \"\"\"\n",
    "        :type nums: List[int]\n",
    "        :type target: int\n",
    "        :rtype: int\n",
    "        \"\"\"\n",
    "        right=len(nums)-1\n",
    "        left=0\n",
    "        while left<right:\n",
    "            mid=(left+right)//2 \n",
    "            if nums[mid]==target:\n",
    "                return mid\n",
    "            elif nums[mid]>target:\n",
    "                right=mid-1\n",
    "            else:\n",
    "                left=mid+1\n",
    "        if target>nums[left]:\n",
    "            return left+1\n",
    "        else:\n",
    "            return left\n",
    "        \n",
    "\n",
    "if __name__ == \"__main__\":\n",
    "    \n",
    "    test = Solution()\n",
    "    l1=[1,3,5,6]\n",
    "    val1=5\n",
    "    \n",
    "    print(test.searchInsert(l1,val1))"
   ]
  },
  {
   "cell_type": "code",
   "execution_count": null,
   "metadata": {},
   "outputs": [],
   "source": []
  }
 ],
 "metadata": {
  "kernelspec": {
   "display_name": "Python 3",
   "language": "python",
   "name": "python3"
  },
  "language_info": {
   "codemirror_mode": {
    "name": "ipython",
    "version": 3
   },
   "file_extension": ".py",
   "mimetype": "text/x-python",
   "name": "python",
   "nbconvert_exporter": "python",
   "pygments_lexer": "ipython3",
   "version": "3.6.6"
  },
  "toc": {
   "base_numbering": 1,
   "nav_menu": {},
   "number_sections": true,
   "sideBar": true,
   "skip_h1_title": false,
   "title_cell": "Table of Contents",
   "title_sidebar": "Contents",
   "toc_cell": false,
   "toc_position": {},
   "toc_section_display": true,
   "toc_window_display": false
  },
  "varInspector": {
   "cols": {
    "lenName": 16,
    "lenType": 16,
    "lenVar": 40
   },
   "kernels_config": {
    "python": {
     "delete_cmd_postfix": "",
     "delete_cmd_prefix": "del ",
     "library": "var_list.py",
     "varRefreshCmd": "print(var_dic_list())"
    },
    "r": {
     "delete_cmd_postfix": ") ",
     "delete_cmd_prefix": "rm(",
     "library": "var_list.r",
     "varRefreshCmd": "cat(var_dic_list()) "
    }
   },
   "types_to_exclude": [
    "module",
    "function",
    "builtin_function_or_method",
    "instance",
    "_Feature"
   ],
   "window_display": false
  }
 },
 "nbformat": 4,
 "nbformat_minor": 2
}
