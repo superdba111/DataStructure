{
 "cells": [
  {
   "cell_type": "code",
   "execution_count": 2,
   "metadata": {},
   "outputs": [
    {
     "name": "stdout",
     "output_type": "stream",
     "text": [
      "[1, 3, 4, 6, 9, 14, 20, 21, 21, 25]\n"
     ]
    }
   ],
   "source": [
    "def quicksort(l):\n",
    "    if len(l) == 1 or len(l) == 0:\n",
    "        return l\n",
    "    else:\n",
    "        pivot = l[0]\n",
    "        i = 0\n",
    "        for j in range(len(l)-1):\n",
    "            if l[j+1] < pivot:\n",
    "                l[j+1],l[i+1] = l[i+1], l[j+1]\n",
    "                i += 1\n",
    "        l[0],l[i] = l[i],l[0]\n",
    "        first_part = quicksort(l[:i])\n",
    "        second_part = quicksort(l[i+1:])\n",
    "        first_part.append(l[i])\n",
    "        return first_part + second_part\n",
    "\n",
    "test = [21, 4, 1, 3, 9, 20, 25, 6, 21, 14]\n",
    "print(quicksort(test))"
   ]
  },
  {
   "cell_type": "code",
   "execution_count": null,
   "metadata": {},
   "outputs": [],
   "source": []
  }
 ],
 "metadata": {
  "kernelspec": {
   "display_name": "Python 3",
   "language": "python",
   "name": "python3"
  },
  "language_info": {
   "codemirror_mode": {
    "name": "ipython",
    "version": 3
   },
   "file_extension": ".py",
   "mimetype": "text/x-python",
   "name": "python",
   "nbconvert_exporter": "python",
   "pygments_lexer": "ipython3",
   "version": "3.6.5"
  }
 },
 "nbformat": 4,
 "nbformat_minor": 2
}
