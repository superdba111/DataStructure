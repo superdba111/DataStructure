{
 "cells": [
  {
   "cell_type": "code",
   "execution_count": 2,
   "metadata": {},
   "outputs": [
    {
     "data": {
      "text/plain": [
       "'Print the following (using \"print\").\\n1. A list of all cities in the USA in\\nalphabetic order.\\n2. All cities in Asia, in alphabetic\\norder, next to the name of the country.\\nIn your output, label each answer with a number\\nso it looks like this:\\n1\\nAmerican City\\nAmerican City\\n2\\nAsian City - Country\\nAsian City - Country'"
      ]
     },
     "execution_count": 2,
     "metadata": {},
     "output_type": "execute_result"
    }
   ],
   "source": [
    "\"\"\"Time to play with Python dictionaries!\n",
    "You're going to work on a dictionary that\n",
    "stores cities by country and continent.\n",
    "One is done for you - the city of Mountain \n",
    "View is in the USA, which is in North America.\n",
    "\n",
    "You need to add the cities listed below by\n",
    "modifying the structure.\n",
    "Then, you should print out the values specified\n",
    "by looking them up in the structure.\n",
    "\n",
    "Cities to add:\n",
    "Bangalore (India, Asia)\n",
    "Atlanta (USA, North America)\n",
    "Cairo (Egypt, Africa)\n",
    "Shanghai (China, Asia)\"\"\"\n",
    "\n",
    "locations = {'North America': {'USA': ['Mountain View']}}\n",
    "\n",
    "\"\"\"Print the following (using \"print\").\n",
    "1. A list of all cities in the USA in\n",
    "alphabetic order.\n",
    "2. All cities in Asia, in alphabetic\n",
    "order, next to the name of the country.\n",
    "In your output, label each answer with a number\n",
    "so it looks like this:\n",
    "1\n",
    "American City\n",
    "American City\n",
    "2\n",
    "Asian City - Country\n",
    "Asian City - Country\"\"\""
   ]
  },
  {
   "cell_type": "code",
   "execution_count": 4,
   "metadata": {},
   "outputs": [
    {
     "name": "stdout",
     "output_type": "stream",
     "text": [
      "1\n",
      "Atlanta\n",
      "Mountain View\n",
      "2\n",
      "Bangalore - India\n",
      "Shanghai - China\n"
     ]
    }
   ],
   "source": [
    "locations = {'North America': {'USA': ['Mountain View']}}\n",
    "locations['North America']['USA'].append('Atlanta')\n",
    "locations['Asia'] = {'India': ['Bangalore']}\n",
    "locations['Asia']['China'] = ['Shanghai']\n",
    "locations['Africa'] = {'Egypt': ['Cairo']}\n",
    "\n",
    "print(1)\n",
    "usa_sorted = sorted(locations['North America']['USA'])\n",
    "for city in usa_sorted:\n",
    "    print(city)\n",
    "\n",
    "print(2)\n",
    "asia_cities = []\n",
    "for countries, cities in locations['Asia'].items():\n",
    "    city_country = cities[0] + \" - \" + countries \n",
    "    asia_cities.append(city_country)\n",
    "asia_sorted = sorted(asia_cities)\n",
    "for city in asia_sorted:\n",
    "    print(city)"
   ]
  },
  {
   "cell_type": "code",
   "execution_count": null,
   "metadata": {},
   "outputs": [],
   "source": []
  }
 ],
 "metadata": {
  "kernelspec": {
   "display_name": "Python 3",
   "language": "python",
   "name": "python3"
  },
  "language_info": {
   "codemirror_mode": {
    "name": "ipython",
    "version": 3
   },
   "file_extension": ".py",
   "mimetype": "text/x-python",
   "name": "python",
   "nbconvert_exporter": "python",
   "pygments_lexer": "ipython3",
   "version": "3.6.5"
  }
 },
 "nbformat": 4,
 "nbformat_minor": 2
}
