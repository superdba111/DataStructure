{
 "cells": [
  {
   "cell_type": "code",
   "execution_count": 4,
   "metadata": {
    "ExecuteTime": {
     "end_time": "2019-03-03T01:00:20.679037Z",
     "start_time": "2019-03-03T01:00:20.671966Z"
    }
   },
   "outputs": [
    {
     "name": "stdout",
     "output_type": "stream",
     "text": [
      "6\n"
     ]
    }
   ],
   "source": [
    "\"\"\"Given an integer array nums, find the contiguous subarray (containing at least one number) \n",
    "which has the largest sum and return its sum.\n",
    "\n",
    "Example:\n",
    "\n",
    "Input: [-2,1,-3,4,-1,2,1,-5,4],\n",
    "Output: 6\n",
    "Explanation: [4,-1,2,1] has the largest sum = 6.\n",
    "Follow up:\n",
    "\n",
    "If you have figured out the O(n) solution, try coding another solution using the divide and conquer approach,\n",
    "which is more subtle.\"\"\"\n",
    "\n",
    "class Solution(object):\n",
    "    def maxSubArray(self, nums):\n",
    "        \"\"\"\n",
    "        :type nums: List[int]\n",
    "        :rtype: int\n",
    "        \"\"\"\n",
    "        if not nums:\n",
    "            return 0\n",
    "        length = len(nums)\n",
    "        current = nums[0]\n",
    "        m = current\n",
    "        for i in range(1, length):\n",
    "            if current < 0:\n",
    "                current = 0\n",
    "            current += nums[i]\n",
    "            m = max(current, m)\n",
    "        return m\n",
    "\n",
    "\n",
    "#if __name__ == \"__main__\":\n",
    "#    assert Solution().maxSubArray([-2, 1, -3, 4, -1, 2, 1, -5, 4]) == 6\n",
    "\n",
    "    \n",
    "if __name__ == \"__main__\":\n",
    "    \n",
    "    test = Solution()\n",
    "    l=[-2,1,-3,4,-1,2,1,-5,4]\n",
    "    print(test.maxSubArray(l))"
   ]
  },
  {
   "cell_type": "code",
   "execution_count": 5,
   "metadata": {
    "ExecuteTime": {
     "end_time": "2019-03-03T01:22:02.252417Z",
     "start_time": "2019-03-03T01:22:02.243417Z"
    }
   },
   "outputs": [],
   "source": [
    "\"\"\"Given a non-empty array of digits representing a non-negative integer, plus one to the integer.\n",
    "\n",
    "The digits are stored such that the most significant digit is at the head of the list,\n",
    "and each element in the array contain a single digit.\n",
    "\n",
    "You may assume the integer does not contain any leading zero, except the number 0 itself.\n",
    "\n",
    "Example 1:\n",
    "\n",
    "Input: [1,2,3]\n",
    "Output: [1,2,4]\n",
    "Explanation: The array represents the integer 123.\"\"\"\n",
    "#思路：把数组转换成数字，加上1，然后转换成字符。最后转换成数组\n",
    "\n",
    "class Solution(object):\n",
    "    def plusOne(self, digits):\n",
    "        \"\"\"\n",
    "        :type digits: List[int]\n",
    "        :rtype: List[int]\n",
    "        \"\"\"\n",
    "        intNum=0  \n",
    "        for i in range(len(digits)):  \n",
    "            intNum=intNum*10+digits[i]  \n",
    "        intNum+=1  \n",
    "        strNum=str(intNum)  \n",
    "        res=[]  \n",
    "        for i in range(len(strNum)):  \n",
    "            res.append(int(strNum[i]))  \n",
    "        return res  \n",
    "    \n",
    "if __name__ == \"__main__\":\n",
    "    assert Solution().plusOne([1, 2, 3, 4, 9]) == [1, 2, 3, 5, 0]\n",
    "    assert Solution().plusOne([9]) == [1, 0]    "
   ]
  },
  {
   "cell_type": "code",
   "execution_count": 7,
   "metadata": {
    "ExecuteTime": {
     "end_time": "2019-03-03T01:27:36.120801Z",
     "start_time": "2019-03-03T01:27:36.116799Z"
    }
   },
   "outputs": [],
   "source": [
    "\"\"\"Given two binary strings, return their sum (also a binary string).\n",
    "\n",
    "The input strings are both non-empty and contains only characters 1 or 0.\n",
    "\n",
    "Example 1:\n",
    "\n",
    "Input: a = \"11\", b = \"1\"\n",
    "Output: \"100\"\n",
    "Example 2:\n",
    "\n",
    "Input: a = \"1010\", b = \"1011\"\n",
    "Output: \"10101\" \"\"\"\n",
    "\n",
    "#思路：python中有二进制转十进制，和十进制转二进制的操作。。很方便。最后转换为二进制的时候前两位是ob,切片删除就行了。\n",
    "\n",
    "class Solution(object):\n",
    "    def addBinary(self, a, b):\n",
    "        \"\"\"\n",
    "        :type a: str\n",
    "        :type b: str\n",
    "        :rtype: str\n",
    "        \"\"\"\n",
    "        num = int(a, 2) + int(b, 2)\n",
    "        ans = bin(num)\n",
    "        return ans[2:]\n",
    "    \n",
    "if __name__ == \"__main__\":\n",
    "    assert Solution().addBinary(\"111\", \"1\") == \"1000\""
   ]
  },
  {
   "cell_type": "code",
   "execution_count": 8,
   "metadata": {
    "ExecuteTime": {
     "end_time": "2019-03-03T01:39:13.338838Z",
     "start_time": "2019-03-03T01:39:13.332892Z"
    }
   },
   "outputs": [],
   "source": [
    "\"\"\"Implement int sqrt(int x).\n",
    "\n",
    "Compute and return the square root of x, where x is guaranteed to be a non-negative integer.\n",
    "\n",
    "Since the return type is an integer, the decimal digits are truncated and only the integer part of the result is returned.\n",
    "\n",
    "Example 1:\n",
    "\n",
    "Input: 4\n",
    "Output: 2\n",
    "Example 2:\n",
    "\n",
    "Input: 8\n",
    "Output: 2\n",
    "Explanation: The square root of 8 is 2.82842..., and since \n",
    "             the decimal part is truncated, 2 is returned.\n",
    "\"\"\"\n",
    "#思路：(you can use newton's math but now i am using the simple method)，答案肯定是不小于1的整数，那直接枚举法判断。。\n",
    "\n",
    "\n",
    "class Solution(object):\n",
    "    def mySqrt(self, x):\n",
    "        \"\"\"\n",
    "        :type x: int\n",
    "        :rtype: int\n",
    "        \"\"\"\n",
    "            \n",
    "        if x == 0:\n",
    "            return 0\n",
    "        elif x < 0:\n",
    "            return 'error'\n",
    "        else:\n",
    "            return int(x**0.5)\n",
    "\n",
    "if __name__ == \"__main__\":\n",
    "    assert Solution().mySqrt(5) == 2\n",
    "    assert Solution().mySqrt(0) == 0\n",
    "        "
   ]
  },
  {
   "cell_type": "code",
   "execution_count": 10,
   "metadata": {
    "ExecuteTime": {
     "end_time": "2019-03-03T01:52:14.429697Z",
     "start_time": "2019-03-03T01:52:14.420696Z"
    }
   },
   "outputs": [],
   "source": [
    "\"\"\"You are climbing a stair case. It takes n steps to reach to the top.\n",
    "\n",
    "Each time you can either climb 1 or 2 steps. In how many distinct ways can you climb to the top?\n",
    "\n",
    "Note: Given n will be a positive integer.\n",
    "\n",
    "Example 1:\n",
    "\n",
    "Input: 2\n",
    "Output: 2\n",
    "Explanation: There are two ways to climb to the top.\n",
    "1. 1 step + 1 step\n",
    "2. 2 steps\n",
    "\n",
    "Example 2:\n",
    "\n",
    "Input: 3\n",
    "Output: 3\n",
    "Explanation: There are three ways to climb to the top.\n",
    "1. 1 step + 1 step + 1 step\n",
    "2. 1 step + 2 steps\n",
    "3. 2 steps + 1 step\n",
    "\"\"\"\n",
    "\n",
    "class Solution(object):\n",
    "    def climbStairs(self, n):\n",
    "        \"\"\"\n",
    "        :type n: int\n",
    "        :rtype: int\n",
    "        \"\"\"\n",
    "        if n <= 2:\n",
    "            return n\n",
    "        dp = [0 for __ in range(n)]\n",
    "        dp[0] = 1\n",
    "        dp[1] = 2\n",
    "        for i in range(2, n):\n",
    "            dp[i] = dp[i - 1] + dp[i - 2]\n",
    "        return dp[n - 1]\n",
    "\n",
    "\n",
    "if __name__ == \"__main__\":\n",
    "    assert Solution().climbStairs(6) == 13\n",
    "    assert Solution().climbStairs(2) == 2\n",
    "    assert Solution().climbStairs(3) == 3\n",
    "\n"
   ]
  },
  {
   "cell_type": "code",
   "execution_count": 11,
   "metadata": {
    "ExecuteTime": {
     "end_time": "2019-03-03T02:01:45.192323Z",
     "start_time": "2019-03-03T02:01:45.182323Z"
    }
   },
   "outputs": [
    {
     "name": "stdout",
     "output_type": "stream",
     "text": [
      "1\n",
      "2\n"
     ]
    }
   ],
   "source": [
    "\"\"\"\n",
    "Given a sorted linked list, delete all duplicates such that each element appear only once.\n",
    "\n",
    "Example 1:\n",
    "\n",
    "Input: 1->1->2\n",
    "Output: 1->2\n",
    "Example 2:\n",
    "\n",
    "Input: 1->1->2->3->3\n",
    "Output: 1->2->3\n",
    "\"\"\"\n",
    "#思路：复习下单链表的知识。排序链表比较简单，只需要比较相邻的元素即可。\n",
    "#判断当前值与下一个值是否相同，相同则修改节点的next指向下一个节点的next \n",
    "\n",
    "#Definition for singly-linked list.\n",
    "class ListNode(object):\n",
    "    def __init__(self, x):\n",
    "        self.val = x\n",
    "        self.next = None\n",
    "    \n",
    "    def my_print(self):\n",
    "        print(self.val)\n",
    "        if self.next:\n",
    "            print(self.next.val)\n",
    "\n",
    "class Solution(object):\n",
    "    def deleteDuplicates(self, head):\n",
    "        \"\"\"\n",
    "        :type head: ListNode\n",
    "        :rtype: ListNode\n",
    "        \"\"\"\n",
    "        if not head:\n",
    "            return head\n",
    "        b = head\n",
    "        n = head.next\n",
    "        while n!=None:\n",
    "            if b.val != n.val:\n",
    "                b = n\n",
    "                n = n.next\n",
    "            else:\n",
    "                b.next = n.next\n",
    "                n = n.next\n",
    "        return head\n",
    "\n",
    "\n",
    "if __name__ == \"__main__\":\n",
    "    n1 = ListNode(1)\n",
    "    n2 = ListNode(1)\n",
    "    n3 = ListNode(2)\n",
    "    n1.next = n2\n",
    "    n2.next = n3\n",
    "    r = Solution().deleteDuplicates(n1)\n",
    "    r.my_print()"
   ]
  },
  {
   "cell_type": "code",
   "execution_count": null,
   "metadata": {},
   "outputs": [],
   "source": []
  }
 ],
 "metadata": {
  "kernelspec": {
   "display_name": "Python 3",
   "language": "python",
   "name": "python3"
  },
  "language_info": {
   "codemirror_mode": {
    "name": "ipython",
    "version": 3
   },
   "file_extension": ".py",
   "mimetype": "text/x-python",
   "name": "python",
   "nbconvert_exporter": "python",
   "pygments_lexer": "ipython3",
   "version": "3.6.6"
  },
  "toc": {
   "base_numbering": 1,
   "nav_menu": {},
   "number_sections": true,
   "sideBar": true,
   "skip_h1_title": false,
   "title_cell": "Table of Contents",
   "title_sidebar": "Contents",
   "toc_cell": false,
   "toc_position": {},
   "toc_section_display": true,
   "toc_window_display": false
  },
  "varInspector": {
   "cols": {
    "lenName": 16,
    "lenType": 16,
    "lenVar": 40
   },
   "kernels_config": {
    "python": {
     "delete_cmd_postfix": "",
     "delete_cmd_prefix": "del ",
     "library": "var_list.py",
     "varRefreshCmd": "print(var_dic_list())"
    },
    "r": {
     "delete_cmd_postfix": ") ",
     "delete_cmd_prefix": "rm(",
     "library": "var_list.r",
     "varRefreshCmd": "cat(var_dic_list()) "
    }
   },
   "types_to_exclude": [
    "module",
    "function",
    "builtin_function_or_method",
    "instance",
    "_Feature"
   ],
   "window_display": false
  }
 },
 "nbformat": 4,
 "nbformat_minor": 2
}
