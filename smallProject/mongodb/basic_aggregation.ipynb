{
 "cells": [
  {
   "cell_type": "code",
   "execution_count": null,
   "metadata": {},
   "outputs": [],
   "source": [
    "import pymongo\n",
    "from bson.json_util import dumps\n",
    "uri = \"<your_atlas_uri>\"\n",
    "client = pymongo.MongoClient(uri)\n",
    "mflix = client.sample_mflix\n",
    "movies = mflix.movies"
   ]
  },
  {
   "cell_type": "code",
   "execution_count": null,
   "metadata": {},
   "outputs": [],
   "source": [
    "sam_raimi_cursor = movies.find( { \"directors\": \"Sam Raimi\" } )"
   ]
  },
  {
   "cell_type": "code",
   "execution_count": null,
   "metadata": {},
   "outputs": [],
   "source": [
    "sam_raimi_cursor"
   ]
  },
  {
   "cell_type": "code",
   "execution_count": null,
   "metadata": {},
   "outputs": [],
   "source": [
    "list(sam_raimi_cursor)"
   ]
  },
  {
   "cell_type": "code",
   "execution_count": null,
   "metadata": {},
   "outputs": [],
   "source": [
    "match_stage = {\"$match\": { \"directors\": \"Sam Raimi\" } }\n",
    "pipeline = [\n",
    "    match_stage\n",
    "]\n",
    "sam_raimi_aggregation = movies.aggregate( pipeline )"
   ]
  },
  {
   "cell_type": "code",
   "execution_count": null,
   "metadata": {},
   "outputs": [],
   "source": [
    "sam_raimi_aggregation"
   ]
  },
  {
   "cell_type": "code",
   "execution_count": null,
   "metadata": {},
   "outputs": [],
   "source": [
    "list(sam_raimi_aggregation)"
   ]
  },
  {
   "cell_type": "code",
   "execution_count": null,
   "metadata": {},
   "outputs": [],
   "source": [
    "sam_raimi_cursor = movies.find(\n",
    "    { \"directors\": \"Sam Raimi\" },\n",
    "    { \"_id\": 0, \"title\": 1, \"cast\": 1 }\n",
    ")\n",
    "\n",
    "print(dumps(sam_raimi_cursor, indent=2))"
   ]
  },
  {
   "cell_type": "code",
   "execution_count": null,
   "metadata": {},
   "outputs": [],
   "source": [
    "match_stage = { \"$match\": { \"directors\": \"Sam Raimi\" } }\n",
    "project_stage = { \"$project\": { \"_id\": 0, \"title\": 1, \"cast\": 1 } }\n",
    "\n",
    "pipeline = [\n",
    "    match_stage,\n",
    "    project_stage\n",
    "]\n",
    "\n",
    "sam_raimi_aggregation = movies.aggregate( pipeline )\n",
    "\n",
    "print(dumps(sam_raimi_aggregation, indent=2))"
   ]
  },
  {
   "cell_type": "code",
   "execution_count": null,
   "metadata": {},
   "outputs": [],
   "source": [
    "unwind_stage = { \"$unwind\": \"$directors\" }\n",
    "\n",
    "group_stage = {\n",
    "    \"$group\": {\n",
    "        \"_id\": {\n",
    "            \"director\": \"$directors\"\n",
    "        },\n",
    "        \"average_rating\": { \"$avg\": \"$imdb.rating\" }\n",
    "    }\n",
    "}\n",
    "\n",
    "sort_stage = {\n",
    "    \"$sort\": { \"average_rating\": -1 }\n",
    "}\n",
    "\n",
    "# create pipeline from four different stages\n",
    "pipeline = [\n",
    "    unwind_stage,\n",
    "    group_stage,\n",
    "    sort_stage\n",
    "]\n",
    "\n",
    "# aggregate using pipeline\n",
    "director_ratings = movies.aggregate(pipeline)\n",
    "\n",
    "# iterate through the resulting cursor\n",
    "list(director_ratings)"
   ]
  },
  {
   "cell_type": "code",
   "execution_count": null,
   "metadata": {},
   "outputs": [],
   "source": []
  }
 ],
 "metadata": {
  "kernelspec": {
   "display_name": "Python 3",
   "language": "python",
   "name": "python3"
  },
  "language_info": {
   "codemirror_mode": {
    "name": "ipython",
    "version": 3
   },
   "file_extension": ".py",
   "mimetype": "text/x-python",
   "name": "python",
   "nbconvert_exporter": "python",
   "pygments_lexer": "ipython3",
   "version": "3.7.3"
  },
  "toc": {
   "base_numbering": 1,
   "nav_menu": {},
   "number_sections": true,
   "sideBar": true,
   "skip_h1_title": false,
   "title_cell": "Table of Contents",
   "title_sidebar": "Contents",
   "toc_cell": false,
   "toc_position": {},
   "toc_section_display": true,
   "toc_window_display": false
  },
  "varInspector": {
   "cols": {
    "lenName": 16,
    "lenType": 16,
    "lenVar": 40
   },
   "kernels_config": {
    "python": {
     "delete_cmd_postfix": "",
     "delete_cmd_prefix": "del ",
     "library": "var_list.py",
     "varRefreshCmd": "print(var_dic_list())"
    },
    "r": {
     "delete_cmd_postfix": ") ",
     "delete_cmd_prefix": "rm(",
     "library": "var_list.r",
     "varRefreshCmd": "cat(var_dic_list()) "
    }
   },
   "types_to_exclude": [
    "module",
    "function",
    "builtin_function_or_method",
    "instance",
    "_Feature"
   ],
   "window_display": false
  }
 },
 "nbformat": 4,
 "nbformat_minor": 2
}
