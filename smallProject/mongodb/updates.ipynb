{
 "cells": [
  {
   "cell_type": "code",
   "execution_count": 1,
   "metadata": {
    "ExecuteTime": {
     "end_time": "2019-07-17T19:52:11.832244Z",
     "start_time": "2019-07-17T19:52:11.654249Z"
    }
   },
   "outputs": [],
   "source": [
    "import pymongo\n",
    "from bson.json_util import dumps\n",
    "from faker import Faker\n",
    "import random\n",
    "fake = Faker()\n",
    "fake.seed(42)\n",
    "random.seed(42)\n",
    "# replace \"uri\" with your Atlas URI string - should look like mongodb+srv://...\n",
    "uri = \"mongodb://localhost:27017\"\n",
    "client = pymongo.MongoClient(uri)\n",
    "mflix = client.sample_mflix"
   ]
  },
  {
   "cell_type": "code",
   "execution_count": 2,
   "metadata": {
    "ExecuteTime": {
     "end_time": "2019-07-17T19:52:14.288686Z",
     "start_time": "2019-07-17T19:52:14.279687Z"
    }
   },
   "outputs": [],
   "source": [
    "fake_users = mflix.fake_users\n",
    "fake_users.drop()"
   ]
  },
  {
   "cell_type": "code",
   "execution_count": 3,
   "metadata": {
    "ExecuteTime": {
     "end_time": "2019-07-17T19:52:16.468460Z",
     "start_time": "2019-07-17T19:52:16.459456Z"
    }
   },
   "outputs": [],
   "source": [
    "def make_user(iter_count):\n",
    "    account_type = \"premium\" if iter_count % 2 == 0 else \"standard\"\n",
    "    return {\n",
    "        \"name\": fake.name(),\n",
    "        \"address\": fake.address(),\n",
    "        \"email\": fake.email(),\n",
    "        \"age\": random.randrange(18, 65),\n",
    "        \"favorite_colors\": [fake.color_name(), fake.color_name(), fake.color_name()],\n",
    "        \"account_type\": account_type\n",
    "    }"
   ]
  },
  {
   "cell_type": "code",
   "execution_count": 4,
   "metadata": {
    "ExecuteTime": {
     "end_time": "2019-07-17T19:52:17.887787Z",
     "start_time": "2019-07-17T19:52:17.871751Z"
    }
   },
   "outputs": [],
   "source": [
    "to_insert = [make_user(i) for i in range(10)]"
   ]
  },
  {
   "cell_type": "code",
   "execution_count": 5,
   "metadata": {
    "ExecuteTime": {
     "end_time": "2019-07-17T19:52:19.643221Z",
     "start_time": "2019-07-17T19:52:19.120005Z"
    }
   },
   "outputs": [
    {
     "data": {
      "text/plain": [
       "<pymongo.results.InsertManyResult at 0x1edbbe04f88>"
      ]
     },
     "execution_count": 5,
     "metadata": {},
     "output_type": "execute_result"
    }
   ],
   "source": [
    "fake_users.insert_many(to_insert)"
   ]
  },
  {
   "cell_type": "code",
   "execution_count": 6,
   "metadata": {
    "ExecuteTime": {
     "end_time": "2019-07-17T19:52:20.721925Z",
     "start_time": "2019-07-17T19:52:20.695974Z"
    }
   },
   "outputs": [
    {
     "name": "stdout",
     "output_type": "stream",
     "text": [
      "{\n",
      "  \"_id\": {\n",
      "    \"$oid\": \"5d2f7c730fbf941538e1a4d1\"\n",
      "  },\n",
      "  \"name\": \"Allison Hill\",\n",
      "  \"address\": \"819 Johnson Course\\nEast William, AK 86379\",\n",
      "  \"email\": \"blakeerik@yahoo.com\",\n",
      "  \"age\": 19,\n",
      "  \"favorite_colors\": [\n",
      "    \"MediumSpringGreen\",\n",
      "    \"LightSeaGreen\",\n",
      "    \"DeepSkyBlue\"\n",
      "  ],\n",
      "  \"account_type\": \"premium\"\n",
      "}\n"
     ]
    }
   ],
   "source": [
    "print(dumps(fake_users.find_one(), indent=2))"
   ]
  },
  {
   "cell_type": "code",
   "execution_count": 7,
   "metadata": {
    "ExecuteTime": {
     "end_time": "2019-07-17T19:52:25.490056Z",
     "start_time": "2019-07-17T19:52:25.432305Z"
    }
   },
   "outputs": [
    {
     "data": {
      "text/plain": [
       "<pymongo.results.UpdateResult at 0x1edbbe31108>"
      ]
     },
     "execution_count": 7,
     "metadata": {},
     "output_type": "execute_result"
    }
   ],
   "source": [
    "allison = {\"name\": \"Allison Hill\"}\n",
    "fake_users.update_one(allison, { \"$inc\": { \"age\": 1 }})"
   ]
  },
  {
   "cell_type": "code",
   "execution_count": 8,
   "metadata": {
    "ExecuteTime": {
     "end_time": "2019-07-17T19:52:26.511867Z",
     "start_time": "2019-07-17T19:52:26.504912Z"
    }
   },
   "outputs": [
    {
     "name": "stdout",
     "output_type": "stream",
     "text": [
      "{\n",
      "  \"_id\": {\n",
      "    \"$oid\": \"5d2f7c730fbf941538e1a4d1\"\n",
      "  },\n",
      "  \"name\": \"Allison Hill\",\n",
      "  \"address\": \"819 Johnson Course\\nEast William, AK 86379\",\n",
      "  \"email\": \"blakeerik@yahoo.com\",\n",
      "  \"age\": 20,\n",
      "  \"favorite_colors\": [\n",
      "    \"MediumSpringGreen\",\n",
      "    \"LightSeaGreen\",\n",
      "    \"DeepSkyBlue\"\n",
      "  ],\n",
      "  \"account_type\": \"premium\"\n",
      "}\n"
     ]
    }
   ],
   "source": [
    "print(dumps(fake_users.find_one(allison), indent=2))"
   ]
  },
  {
   "cell_type": "code",
   "execution_count": 9,
   "metadata": {
    "ExecuteTime": {
     "end_time": "2019-07-17T19:52:30.688283Z",
     "start_time": "2019-07-17T19:52:30.632457Z"
    }
   },
   "outputs": [
    {
     "data": {
      "text/plain": [
       "<pymongo.results.UpdateResult at 0x1edbbe31388>"
      ]
     },
     "execution_count": 9,
     "metadata": {},
     "output_type": "execute_result"
    }
   ],
   "source": [
    "fake_users.update_one(allison, {\"$push\": { \"favorite_colors\": \"Black\"}})"
   ]
  },
  {
   "cell_type": "code",
   "execution_count": 10,
   "metadata": {
    "ExecuteTime": {
     "end_time": "2019-07-17T19:52:31.572130Z",
     "start_time": "2019-07-17T19:52:31.566127Z"
    }
   },
   "outputs": [
    {
     "name": "stdout",
     "output_type": "stream",
     "text": [
      "{\n",
      "  \"_id\": {\n",
      "    \"$oid\": \"5d2f7c730fbf941538e1a4d1\"\n",
      "  },\n",
      "  \"name\": \"Allison Hill\",\n",
      "  \"address\": \"819 Johnson Course\\nEast William, AK 86379\",\n",
      "  \"email\": \"blakeerik@yahoo.com\",\n",
      "  \"age\": 20,\n",
      "  \"favorite_colors\": [\n",
      "    \"MediumSpringGreen\",\n",
      "    \"LightSeaGreen\",\n",
      "    \"DeepSkyBlue\",\n",
      "    \"Black\"\n",
      "  ],\n",
      "  \"account_type\": \"premium\"\n",
      "}\n"
     ]
    }
   ],
   "source": [
    "print(dumps(fake_users.find_one(allison), indent=2))"
   ]
  },
  {
   "cell_type": "code",
   "execution_count": 11,
   "metadata": {
    "ExecuteTime": {
     "end_time": "2019-07-17T19:52:32.399126Z",
     "start_time": "2019-07-17T19:52:32.392126Z"
    }
   },
   "outputs": [
    {
     "name": "stdout",
     "output_type": "stream",
     "text": [
      "5\n"
     ]
    },
    {
     "name": "stderr",
     "output_type": "stream",
     "text": [
      "d:\\project\\db\\mongodb\\m221\\mflix-python\\mflix_venv\\lib\\site-packages\\ipykernel_launcher.py:1: DeprecationWarning: count is deprecated. Use estimated_document_count or count_documents instead. Please note that $where must be replaced by $expr, $near must be replaced by $geoWithin with $center, and $nearSphere must be replaced by $geoWithin with $centerSphere\n",
      "  \"\"\"Entry point for launching an IPython kernel.\n"
     ]
    }
   ],
   "source": [
    "print(fake_users.count({\"account_type\": \"standard\"}))"
   ]
  },
  {
   "cell_type": "code",
   "execution_count": 12,
   "metadata": {
    "ExecuteTime": {
     "end_time": "2019-07-17T19:52:33.318988Z",
     "start_time": "2019-07-17T19:52:33.221988Z"
    }
   },
   "outputs": [
    {
     "name": "stdout",
     "output_type": "stream",
     "text": [
      "[\n",
      "  {\n",
      "    \"name\": \"Phillip Garcia\",\n",
      "    \"account_type\": \"standard\"\n",
      "  },\n",
      "  {\n",
      "    \"name\": \"Justin Baker\",\n",
      "    \"account_type\": \"standard\"\n",
      "  },\n",
      "  {\n",
      "    \"name\": \"Michael Brooks\",\n",
      "    \"account_type\": \"standard\"\n",
      "  },\n",
      "  {\n",
      "    \"name\": \"John Hancock\",\n",
      "    \"account_type\": \"standard\"\n",
      "  },\n",
      "  {\n",
      "    \"name\": \"Robert Evans\",\n",
      "    \"account_type\": \"standard\"\n",
      "  }\n",
      "]\n"
     ]
    }
   ],
   "source": [
    "print(dumps(fake_users.find({\"account_type\": \"standard\"}, { \"_id\": 0, \"name\": 1, \"account_type\": 1}), indent=2))"
   ]
  },
  {
   "cell_type": "code",
   "execution_count": 13,
   "metadata": {
    "ExecuteTime": {
     "end_time": "2019-07-17T19:52:33.932156Z",
     "start_time": "2019-07-17T19:52:33.928145Z"
    }
   },
   "outputs": [],
   "source": [
    "u_r = fake_users.update_many({\"account_type\": \"standard\"}, {\"$set\": { \"account_type\": \"premium\", \"free_trial\": True}})"
   ]
  },
  {
   "cell_type": "code",
   "execution_count": 14,
   "metadata": {
    "ExecuteTime": {
     "end_time": "2019-07-17T19:52:34.758147Z",
     "start_time": "2019-07-17T19:52:34.750189Z"
    }
   },
   "outputs": [
    {
     "name": "stdout",
     "output_type": "stream",
     "text": [
      "0\n"
     ]
    },
    {
     "name": "stderr",
     "output_type": "stream",
     "text": [
      "d:\\project\\db\\mongodb\\m221\\mflix-python\\mflix_venv\\lib\\site-packages\\ipykernel_launcher.py:1: DeprecationWarning: count is deprecated. Use estimated_document_count or count_documents instead. Please note that $where must be replaced by $expr, $near must be replaced by $geoWithin with $center, and $nearSphere must be replaced by $geoWithin with $centerSphere\n",
      "  \"\"\"Entry point for launching an IPython kernel.\n"
     ]
    }
   ],
   "source": [
    "print(fake_users.count({\"account_type\": \"standard\"}))"
   ]
  },
  {
   "cell_type": "code",
   "execution_count": 15,
   "metadata": {
    "ExecuteTime": {
     "end_time": "2019-07-17T19:52:35.549148Z",
     "start_time": "2019-07-17T19:52:35.542144Z"
    }
   },
   "outputs": [
    {
     "name": "stdout",
     "output_type": "stream",
     "text": [
      "[\n",
      "  {\n",
      "    \"name\": \"Phillip Garcia\",\n",
      "    \"account_type\": \"premium\"\n",
      "  },\n",
      "  {\n",
      "    \"name\": \"Justin Baker\",\n",
      "    \"account_type\": \"premium\"\n",
      "  },\n",
      "  {\n",
      "    \"name\": \"Michael Brooks\",\n",
      "    \"account_type\": \"premium\"\n",
      "  },\n",
      "  {\n",
      "    \"name\": \"John Hancock\",\n",
      "    \"account_type\": \"premium\"\n",
      "  },\n",
      "  {\n",
      "    \"name\": \"Robert Evans\",\n",
      "    \"account_type\": \"premium\"\n",
      "  }\n",
      "]\n"
     ]
    }
   ],
   "source": [
    "print(dumps(fake_users.find({\"free_trial\": True}, { \"_id\": 0, \"name\": 1, \"account_type\": 1}), indent=2))"
   ]
  },
  {
   "cell_type": "code",
   "execution_count": 16,
   "metadata": {
    "ExecuteTime": {
     "end_time": "2019-07-17T19:52:37.406361Z",
     "start_time": "2019-07-17T19:52:37.400358Z"
    }
   },
   "outputs": [
    {
     "name": "stdout",
     "output_type": "stream",
     "text": [
      "['_UpdateResult__acknowledged', '_UpdateResult__raw_result', '_WriteResult__acknowledged', '__class__', '__delattr__', '__dir__', '__doc__', '__eq__', '__format__', '__ge__', '__getattribute__', '__gt__', '__hash__', '__init__', '__init_subclass__', '__le__', '__lt__', '__module__', '__ne__', '__new__', '__reduce__', '__reduce_ex__', '__repr__', '__setattr__', '__sizeof__', '__slots__', '__str__', '__subclasshook__', '_raise_if_unacknowledged', 'acknowledged', 'matched_count', 'modified_count', 'raw_result', 'upserted_id']\n"
     ]
    }
   ],
   "source": [
    "print(dir(u_r))"
   ]
  },
  {
   "cell_type": "code",
   "execution_count": 17,
   "metadata": {
    "ExecuteTime": {
     "end_time": "2019-07-17T19:52:38.591030Z",
     "start_time": "2019-07-17T19:52:38.586015Z"
    }
   },
   "outputs": [
    {
     "name": "stdout",
     "output_type": "stream",
     "text": [
      "True 5 5 None\n"
     ]
    }
   ],
   "source": [
    "print(u_r.acknowledged, u_r.matched_count, u_r.modified_count, u_r.upserted_id)"
   ]
  },
  {
   "cell_type": "code",
   "execution_count": 18,
   "metadata": {
    "ExecuteTime": {
     "end_time": "2019-07-17T19:52:39.708167Z",
     "start_time": "2019-07-17T19:52:39.701172Z"
    }
   },
   "outputs": [],
   "source": [
    "new_or_updated_user = make_user(0)\n",
    "u_r = fake_users.update_one({\"email\": new_or_updated_user[\"email\"]}, {\"$set\": new_or_updated_user}, upsert=True)"
   ]
  },
  {
   "cell_type": "code",
   "execution_count": 19,
   "metadata": {
    "ExecuteTime": {
     "end_time": "2019-07-17T19:52:40.679908Z",
     "start_time": "2019-07-17T19:52:40.671908Z"
    }
   },
   "outputs": [
    {
     "name": "stdout",
     "output_type": "stream",
     "text": [
      "{\n",
      "  \"_id\": {\n",
      "    \"$oid\": \"5d2f7c876c4dd51f9f58dc63\"\n",
      "  },\n",
      "  \"email\": \"kimberly63@moore-haynes.biz\",\n",
      "  \"account_type\": \"premium\",\n",
      "  \"address\": \"826 Bobby Lakes Apt. 533\\nWest Kimberlychester, MP 32260\",\n",
      "  \"age\": 28,\n",
      "  \"favorite_colors\": [\n",
      "    \"Blue\",\n",
      "    \"SeaShell\",\n",
      "    \"Indigo\"\n",
      "  ],\n",
      "  \"name\": \"Melissa Hernandez\"\n",
      "}\n"
     ]
    }
   ],
   "source": [
    "print(dumps(fake_users.find_one({\"email\": new_or_updated_user[\"email\"]}), indent=2))"
   ]
  },
  {
   "cell_type": "code",
   "execution_count": 20,
   "metadata": {
    "ExecuteTime": {
     "end_time": "2019-07-17T19:52:41.404880Z",
     "start_time": "2019-07-17T19:52:41.399882Z"
    }
   },
   "outputs": [
    {
     "name": "stdout",
     "output_type": "stream",
     "text": [
      "True 0 0 5d2f7c876c4dd51f9f58dc63\n"
     ]
    }
   ],
   "source": [
    "print(u_r.acknowledged, u_r.matched_count, u_r.modified_count, u_r.upserted_id)"
   ]
  },
  {
   "cell_type": "code",
   "execution_count": 21,
   "metadata": {
    "ExecuteTime": {
     "end_time": "2019-07-17T19:52:42.761222Z",
     "start_time": "2019-07-17T19:52:42.416047Z"
    }
   },
   "outputs": [],
   "source": [
    "fake_users.drop()"
   ]
  },
  {
   "cell_type": "code",
   "execution_count": null,
   "metadata": {},
   "outputs": [],
   "source": []
  },
  {
   "cell_type": "code",
   "execution_count": null,
   "metadata": {},
   "outputs": [],
   "source": []
  },
  {
   "cell_type": "code",
   "execution_count": null,
   "metadata": {},
   "outputs": [],
   "source": []
  }
 ],
 "metadata": {
  "kernelspec": {
   "display_name": "Python 3",
   "language": "python",
   "name": "python3"
  },
  "language_info": {
   "codemirror_mode": {
    "name": "ipython",
    "version": 3
   },
   "file_extension": ".py",
   "mimetype": "text/x-python",
   "name": "python",
   "nbconvert_exporter": "python",
   "pygments_lexer": "ipython3",
   "version": "3.7.3"
  },
  "toc": {
   "base_numbering": 1,
   "nav_menu": {},
   "number_sections": true,
   "sideBar": true,
   "skip_h1_title": false,
   "title_cell": "Table of Contents",
   "title_sidebar": "Contents",
   "toc_cell": false,
   "toc_position": {},
   "toc_section_display": true,
   "toc_window_display": false
  },
  "varInspector": {
   "cols": {
    "lenName": 16,
    "lenType": 16,
    "lenVar": 40
   },
   "kernels_config": {
    "python": {
     "delete_cmd_postfix": "",
     "delete_cmd_prefix": "del ",
     "library": "var_list.py",
     "varRefreshCmd": "print(var_dic_list())"
    },
    "r": {
     "delete_cmd_postfix": ") ",
     "delete_cmd_prefix": "rm(",
     "library": "var_list.r",
     "varRefreshCmd": "cat(var_dic_list()) "
    }
   },
   "types_to_exclude": [
    "module",
    "function",
    "builtin_function_or_method",
    "instance",
    "_Feature"
   ],
   "window_display": false
  }
 },
 "nbformat": 4,
 "nbformat_minor": 2
}
