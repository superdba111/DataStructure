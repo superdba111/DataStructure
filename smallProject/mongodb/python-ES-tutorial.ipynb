{
 "cells": [
  {
   "cell_type": "code",
   "execution_count": 1,
   "metadata": {
    "ExecuteTime": {
     "end_time": "2019-08-03T17:08:49.888222Z",
     "start_time": "2019-08-03T17:08:43.436153Z"
    }
   },
   "outputs": [
    {
     "name": "stdout",
     "output_type": "stream",
     "text": [
      "Collecting elasticsearch\n",
      "  Downloading https://files.pythonhosted.org/packages/ae/43/38329621bcca6f0b97e1cc36fb3cef889414a1960fcdc83a41e26b496634/elasticsearch-7.0.2-py2.py3-none-any.whl (83kB)\n",
      "Collecting urllib3>=1.21.1 (from elasticsearch)\n",
      "  Downloading https://files.pythonhosted.org/packages/e6/60/247f23a7121ae632d62811ba7f273d0e58972d75e58a94d329d51550a47d/urllib3-1.25.3-py2.py3-none-any.whl (150kB)\n",
      "Installing collected packages: urllib3, elasticsearch\n",
      "Successfully installed elasticsearch-7.0.2 urllib3-1.25.3\n"
     ]
    },
    {
     "name": "stderr",
     "output_type": "stream",
     "text": [
      "WARNING: You are using pip version 19.1.1, however version 19.2.1 is available.\n",
      "You should consider upgrading via the 'python -m pip install --upgrade pip' command.\n"
     ]
    }
   ],
   "source": [
    "!pip install elasticsearch"
   ]
  },
  {
   "cell_type": "code",
   "execution_count": 41,
   "metadata": {
    "ExecuteTime": {
     "end_time": "2019-08-03T19:48:08.372732Z",
     "start_time": "2019-08-03T19:48:08.012569Z"
    }
   },
   "outputs": [
    {
     "name": "stdout",
     "output_type": "stream",
     "text": [
      "Connected {'name': 'LAPTOP-TDV4M4KN', 'cluster_name': 'elasticsearch', 'cluster_uuid': 'zy1-hhlIQcK0kGxwDGJn6Q', 'version': {'number': '7.3.0', 'build_flavor': 'unknown', 'build_type': 'unknown', 'build_hash': 'de777fa', 'build_date': '2019-07-24T18:30:11.767338Z', 'build_snapshot': False, 'lucene_version': '8.1.0', 'minimum_wire_compatibility_version': '6.8.0', 'minimum_index_compatibility_version': '6.0.0-beta1'}, 'tagline': 'You Know, for Search'}\n"
     ]
    }
   ],
   "source": [
    "# Import Elasticsearch package \n",
    "from elasticsearch import Elasticsearch \n",
    "# Connect to the elastic cluster\n",
    "#es=Elasticsearch([{'host':'localhost','port':9200}])\n",
    "#es\n",
    "#es = Elasticsearch([\"http://localhost:9200\"], htt_pauth=('elastic', 'elastic'))\n",
    "\n",
    "try:\n",
    "  es = Elasticsearch(\n",
    "      ['localhost'],\n",
    "      http_auth=('yli', 'Admin123'),\n",
    "      port=9200,\n",
    "  )\n",
    "  print(\"Connected\", es.info())\n",
    "except Exception as ex:\n",
    "  print(\"Error:\", ex)"
   ]
  },
  {
   "cell_type": "code",
   "execution_count": 23,
   "metadata": {
    "ExecuteTime": {
     "end_time": "2019-08-03T19:25:27.726024Z",
     "start_time": "2019-08-03T19:25:27.720022Z"
    }
   },
   "outputs": [
    {
     "name": "stdout",
     "output_type": "stream",
     "text": [
      "{'first_name': 'nitin', 'last_name': 'panwar', 'age': 27, 'about': 'Love to play cricket', 'interests': ['sports', 'music']}\n"
     ]
    }
   ],
   "source": [
    "e1={\n",
    "    \"first_name\":\"nitin\",\n",
    "    \"last_name\":\"panwar\",\n",
    "    \"age\": 27,\n",
    "    \"about\": \"Love to play cricket\",\n",
    "    \"interests\": ['sports','music'],\n",
    "}\n",
    "print(e1)"
   ]
  },
  {
   "cell_type": "markdown",
   "metadata": {},
   "source": [
    "!pip install certifi\n",
    "from elasticsearch import Elasticsearch\n",
    "import certifi\n",
    "\n",
    "try:\n",
    "  es = Elasticsearch(\n",
    "      ['host1', 'host2', 'host3', 'host4'],\n",
    "      http_auth=('YOUR_USERNAME', 'YOUR_PASSWORD'),\n",
    "      port=20202,\n",
    "      use_ssl=True,\n",
    "      verify_certs=True,\n",
    "      ca_certs=certifi.where(),\n",
    "  )\n",
    "  print \"Connected\", es.info()\n",
    "except Exception as ex:\n",
    "  print \"Error:\", ex"
   ]
  },
  {
   "cell_type": "markdown",
   "metadata": {},
   "source": [
    "# Inserting a document"
   ]
  },
  {
   "cell_type": "code",
   "execution_count": 24,
   "metadata": {
    "ExecuteTime": {
     "end_time": "2019-08-03T19:25:29.436153Z",
     "start_time": "2019-08-03T19:25:29.249302Z"
    }
   },
   "outputs": [],
   "source": [
    "#Now let's store this document in Elasticsearch \n",
    "res = es.index(index='megacorp',doc_type='employee',id=1,body=e1)"
   ]
  },
  {
   "cell_type": "code",
   "execution_count": 37,
   "metadata": {
    "ExecuteTime": {
     "end_time": "2019-08-03T19:45:04.555693Z",
     "start_time": "2019-08-03T19:45:04.035592Z"
    }
   },
   "outputs": [
    {
     "name": "stdout",
     "output_type": "stream",
     "text": [
      "{'_index': 'megacorp', '_type': 'employee', '_id': '3', '_version': 1, 'result': 'created', '_shards': {'total': 2, 'successful': 1, 'failed': 0}, '_seq_no': 14, '_primary_term': 1}\n"
     ]
    }
   ],
   "source": [
    "# Let's insert some more documents\n",
    "e2={\n",
    "    \"first_name\" :  \"Jane\",\n",
    "    \"last_name\" :   \"Smith\",\n",
    "    \"age\" :         32,\n",
    "    \"about\" :       \"I like to collect rock albums\",\n",
    "    \"interests\":  [ \"music\" ]\n",
    "}\n",
    "e3={\n",
    "    \"first_name\" :  \"Douglas\",\n",
    "    \"last_name\" :   \"Fir\",\n",
    "    \"age\" :         35,\n",
    "    \"about\":        \"I like to build cabinets\",\n",
    "    \"interests\":  [ \"forestry\" ]\n",
    "}\n",
    "res=es.index(index='megacorp',doc_type='employee',id=2,body=e2)\n",
    "#print(res['created'])\n",
    "res=es.index(index='megacorp',doc_type='employee',id=3,body=e3)\n",
    "print(res)"
   ]
  },
  {
   "cell_type": "markdown",
   "metadata": {},
   "source": [
    "# Retrieving a Document"
   ]
  },
  {
   "cell_type": "code",
   "execution_count": 28,
   "metadata": {
    "ExecuteTime": {
     "end_time": "2019-08-03T19:32:03.852242Z",
     "start_time": "2019-08-03T19:32:03.843195Z"
    }
   },
   "outputs": [
    {
     "name": "stdout",
     "output_type": "stream",
     "text": [
      "{'_index': 'megacorp', '_type': 'employee', '_id': '2', '_version': 2, '_seq_no': 3, '_primary_term': 1, 'found': True, '_source': {'first_name': 'Jane', 'last_name': 'Smith', 'age': 32, 'about': 'I like to collect rock albums', 'interests': ['music']}}\n",
      "{'first_name': 'Jane', 'last_name': 'Smith', 'age': 32, 'about': 'I like to collect rock albums', 'interests': ['music']}\n"
     ]
    }
   ],
   "source": [
    "res=es.get(index='megacorp',doc_type='employee',id=2)\n",
    "print(res)\n",
    "print(res['_source'])"
   ]
  },
  {
   "cell_type": "markdown",
   "metadata": {},
   "source": [
    "# Deleting a document"
   ]
  },
  {
   "cell_type": "code",
   "execution_count": 35,
   "metadata": {
    "ExecuteTime": {
     "end_time": "2019-08-03T19:43:39.737263Z",
     "start_time": "2019-08-03T19:43:39.385192Z"
    }
   },
   "outputs": [
    {
     "name": "stdout",
     "output_type": "stream",
     "text": [
      "deleted\n"
     ]
    }
   ],
   "source": [
    "res=es.delete(index='megacorp',doc_type='employee',id=3)\n",
    "print(res['result'])\n",
    "#Now let’s validate it in Elasticsearch\n",
    "#res1= es.search(index='megacorp',body={'query':{'match_all':{}}})\n",
    "#print('Got %d hits:' %res1['hits']['total'])"
   ]
  },
  {
   "cell_type": "markdown",
   "metadata": {},
   "source": [
    "# Search"
   ]
  },
  {
   "cell_type": "code",
   "execution_count": 43,
   "metadata": {
    "ExecuteTime": {
     "end_time": "2019-08-03T19:49:28.609550Z",
     "start_time": "2019-08-03T19:49:27.522954Z"
    }
   },
   "outputs": [
    {
     "name": "stdout",
     "output_type": "stream",
     "text": [
      "Connected {'name': 'LAPTOP-TDV4M4KN', 'cluster_name': 'elasticsearch', 'cluster_uuid': 'zy1-hhlIQcK0kGxwDGJn6Q', 'version': {'number': '7.3.0', 'build_flavor': 'unknown', 'build_type': 'unknown', 'build_hash': 'de777fa', 'build_date': '2019-07-24T18:30:11.767338Z', 'build_snapshot': False, 'lucene_version': '8.1.0', 'minimum_wire_compatibility_version': '6.8.0', 'minimum_index_compatibility_version': '6.0.0-beta1'}, 'tagline': 'You Know, for Search'}\n"
     ]
    },
    {
     "data": {
      "text/plain": [
       "{'took': 894,\n",
       " 'timed_out': False,\n",
       " '_shards': {'total': 1, 'successful': 1, 'skipped': 0, 'failed': 0},\n",
       " 'hits': {'total': {'value': 1, 'relation': 'eq'},\n",
       "  'max_score': 0.13353139,\n",
       "  'hits': [{'_index': 'test_index',\n",
       "    '_type': 'post',\n",
       "    '_id': '1',\n",
       "    '_score': 0.13353139,\n",
       "    '_source': {'author': 'John Doe',\n",
       "     'blog': 'Learning Elasticsearch',\n",
       "     'title': 'Using Python with Elasticsearch',\n",
       "     'tags': ['python', 'elasticsearch', 'tips']}}]}}"
      ]
     },
     "execution_count": 43,
     "metadata": {},
     "output_type": "execute_result"
    }
   ],
   "source": [
    "\n",
    "try:\n",
    "  es = Elasticsearch(\n",
    "      ['localhost'],\n",
    "      http_auth=('yli', 'Admin123'),\n",
    "      port=9200,\n",
    "  )\n",
    "  print(\"Connected\", es.info())\n",
    "except Exception as ex:\n",
    "  print(\"Error:\", ex)\n",
    "\n",
    "es.index(index='test_index', doc_type='post', id=1, body={\n",
    "  'author': 'John Doe',\n",
    "  'blog': 'Learning Elasticsearch',\n",
    "  'title': 'Using Python with Elasticsearch',\n",
    "  'tags': ['python', 'elasticsearch', 'tips'],\n",
    "})\n",
    "\n",
    "es.search(index='test_index', body={\n",
    "  'query': {\n",
    "    'match': {\n",
    "      'title': 'Python',\n",
    "     }\n",
    "  }\n",
    "})\n",
    "\n"
   ]
  },
  {
   "cell_type": "markdown",
   "metadata": {},
   "source": [
    "# node.js"
   ]
  },
  {
   "cell_type": "markdown",
   "metadata": {},
   "source": [
    "#install client\n",
    "npm install elasticsearch\n",
    "\n",
    "#connecting\n",
    "var elasticsearch = require('elasticsearch');\n",
    "\n",
    "var auth = 'YOUR_USERNAME:YOUR_PASSWORD';\n",
    "var port = 20202;\n",
    "var protocol = 'https';\n",
    "var hostUrls = [\n",
    "    'host1',\n",
    "    'host2',\n",
    "    'host3',\n",
    "    'host4'\n",
    "];\n",
    "\n",
    "var hosts = hostUrls.map(function(host) {\n",
    "    return {\n",
    "        protocol: protocol,\n",
    "        host: host,\n",
    "        port: port,\n",
    "        auth: auth\n",
    "    };\n",
    "});\n",
    "\n",
    "var client = new elasticsearch.Client({\n",
    "    hosts: hosts\n",
    "});\n",
    "\n",
    "client.ping({\n",
    "    requestTimeout: 30000\n",
    "}, function(error) {\n",
    "    if (error) {\n",
    "        console.trace('Error:', error);\n",
    "    } else {\n",
    "        console.log('Connected!');\n",
    "    }\n",
    "    // on finish\n",
    "    client.close();\n",
    "});\n",
    "\n",
    "#index document\n",
    "client.index({\n",
    "  index: 'example_index',\n",
    "  type: 'posts',\n",
    "  id: '1',\n",
    "  body: {\n",
    "    user: 'me',\n",
    "    post_date: new Date(),\n",
    "    message: 'Hello World!'\n",
    "  },\n",
    "  refresh: true\n",
    "});\n",
    "\n",
    "#search\n",
    "client.search({\n",
    "  index: 'example_index',\n",
    "  type: 'posts',\n",
    "  body: {\n",
    "    query: {\n",
    "      match: {\n",
    "        body: 'Hello World'\n",
    "      }\n",
    "    }\n",
    "  }\n",
    "});\n",
    "\n",
    "#delete\n",
    "client.delete({\n",
    "  index: 'example_index',\n",
    "  type: 'posts',\n",
    "  id: '1',\n",
    "})"
   ]
  },
  {
   "cell_type": "code",
   "execution_count": null,
   "metadata": {},
   "outputs": [],
   "source": []
  }
 ],
 "metadata": {
  "kernelspec": {
   "display_name": "Python 3",
   "language": "python",
   "name": "python3"
  },
  "language_info": {
   "codemirror_mode": {
    "name": "ipython",
    "version": 3
   },
   "file_extension": ".py",
   "mimetype": "text/x-python",
   "name": "python",
   "nbconvert_exporter": "python",
   "pygments_lexer": "ipython3",
   "version": "3.7.3"
  },
  "toc": {
   "base_numbering": 1,
   "nav_menu": {},
   "number_sections": true,
   "sideBar": true,
   "skip_h1_title": false,
   "title_cell": "Table of Contents",
   "title_sidebar": "Contents",
   "toc_cell": false,
   "toc_position": {},
   "toc_section_display": true,
   "toc_window_display": false
  },
  "varInspector": {
   "cols": {
    "lenName": 16,
    "lenType": 16,
    "lenVar": 40
   },
   "kernels_config": {
    "python": {
     "delete_cmd_postfix": "",
     "delete_cmd_prefix": "del ",
     "library": "var_list.py",
     "varRefreshCmd": "print(var_dic_list())"
    },
    "r": {
     "delete_cmd_postfix": ") ",
     "delete_cmd_prefix": "rm(",
     "library": "var_list.r",
     "varRefreshCmd": "cat(var_dic_list()) "
    }
   },
   "types_to_exclude": [
    "module",
    "function",
    "builtin_function_or_method",
    "instance",
    "_Feature"
   ],
   "window_display": false
  }
 },
 "nbformat": 4,
 "nbformat_minor": 2
}
